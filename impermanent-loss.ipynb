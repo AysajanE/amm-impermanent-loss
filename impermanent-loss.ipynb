{
 "cells": [
  {
   "cell_type": "code",
   "execution_count": 1,
   "id": "c51baf61-e71f-4dc5-8d76-25933ea3955e",
   "metadata": {},
   "outputs": [],
   "source": [
    "%matplotlib inline"
   ]
  },
  {
   "cell_type": "code",
   "execution_count": 2,
   "id": "05933ef7-26a6-455e-9622-2241c88ed9ec",
   "metadata": {},
   "outputs": [],
   "source": [
    "import numpy as np\n",
    "import matplotlib.pyplot as plt\n",
    "import matplotlib.ticker as mtick"
   ]
  },
  {
   "cell_type": "markdown",
   "id": "c624e772-a177-4f4e-9a71-d090887cfa2a",
   "metadata": {},
   "source": [
    "### Experimenting impermanent loss when providing liquidity to an AMM Assets"
   ]
  },
  {
   "cell_type": "markdown",
   "id": "2d6bcefe-880f-468d-bcee-9453b8664b5f",
   "metadata": {},
   "source": [
    "### Suppose one asset is stablecoin, e,g., USDC, USDT, DAI"
   ]
  },
  {
   "cell_type": "code",
   "execution_count": 3,
   "id": "b0635f7d-0650-4326-bee8-cc6e731438b6",
   "metadata": {},
   "outputs": [],
   "source": [
    "# price at time t=0\n",
    "eth0 = 100\n",
    "dai0 = 1\n",
    "# quantity at time 0\n",
    "qty0_eth = 10\n",
    "qty0_dai = 1000\n",
    "\n",
    "# AMM: x*y=k\n",
    "k = qty0_eth * qty0_dai\n",
    "\n",
    "total0_asset = eth0 * qty0_eth + dai0 * qty0_dai"
   ]
  },
  {
   "cell_type": "code",
   "execution_count": 4,
   "id": "ff348567-9aa5-46e5-8ba2-5b64ed88f103",
   "metadata": {},
   "outputs": [
    {
     "data": {
      "text/plain": [
       "(10000, 2000)"
      ]
     },
     "execution_count": 4,
     "metadata": {},
     "output_type": "execute_result"
    }
   ],
   "source": [
    "k, total0_asset"
   ]
  },
  {
   "cell_type": "markdown",
   "id": "5dd619b1-0f85-4cfa-9d15-328f577e954b",
   "metadata": {},
   "source": [
    "Let's suppose the price of ETH increases to $110 in the external market, creating an arbitrage opportunity. DAI is stablecoin, so its price does not change.\n",
    "Price increase in ETH incentivizes those arbitrageurs to sell DAI for ETH in the pool, so that they can sell ETH for a higher price in the external market."
   ]
  },
  {
   "cell_type": "markdown",
   "id": "d222b451-5ced-491c-8769-920827cfaae7",
   "metadata": {},
   "source": [
    "eth1 * qty1_eth = dai1 * qty1_dai\n",
    "<br>\n",
    "qty1_eth * qty1_dai = k ---> qty1_eth = k / qty1_dai\n",
    "<br>\n",
    "which results in:\n",
    "<br>\n",
    "qty1_dai = (eth1 * qty1_eth) / dai1 = (eth1 * k / qty1_dai) / dai1 = (eth1 * k)/(dai1 * qty1_dai1)\n",
    "<bt>\n",
    "----> dai1 * (qty1_dai1)**2 = eth1 * k ---> qty1_dai1 = sqrt(eth1 * k / dai1)"
   ]
  },
  {
   "cell_type": "code",
   "execution_count": 5,
   "id": "9846dce0-6220-4f9c-b611-f1c090348118",
   "metadata": {},
   "outputs": [],
   "source": [
    "eth1 = 500\n",
    "dai1 = 1\n",
    "\n",
    "# An arbitrageue comes along and wants to swap some dai for eth until both sides of the AMM are equal\n",
    "qty1_dai = np.sqrt(eth1 * k / dai1)\n",
    "qty_swap_from = qty1_dai - qty0_dai\n",
    "qty1_eth = k / qty1_dai"
   ]
  },
  {
   "cell_type": "code",
   "execution_count": 6,
   "id": "85db10fd-f5a8-41b8-bbe5-10c1b229309c",
   "metadata": {},
   "outputs": [
    {
     "data": {
      "text/plain": [
       "((500, 4.47213595499958), (1, 2236.06797749979))"
      ]
     },
     "execution_count": 6,
     "metadata": {},
     "output_type": "execute_result"
    }
   ],
   "source": [
    "(eth1, qty1_eth), (dai1, qty1_dai)"
   ]
  },
  {
   "cell_type": "code",
   "execution_count": 7,
   "id": "33e2205a-9ff0-496c-bc98-a0517518b081",
   "metadata": {},
   "outputs": [
    {
     "data": {
      "text/plain": [
       "True"
      ]
     },
     "execution_count": 7,
     "metadata": {},
     "output_type": "execute_result"
    }
   ],
   "source": [
    "qty1_eth * eth1 == qty1_dai * dai1"
   ]
  },
  {
   "cell_type": "code",
   "execution_count": 8,
   "id": "2ccbd211-f525-4f23-9a1f-5aa192b18ca9",
   "metadata": {},
   "outputs": [
    {
     "data": {
      "text/plain": [
       "5.52786404500042"
      ]
     },
     "execution_count": 8,
     "metadata": {},
     "output_type": "execute_result"
    }
   ],
   "source": [
    "qty_swap_to = qty0_eth - qty1_eth\n",
    "qty_swap_to"
   ]
  },
  {
   "cell_type": "markdown",
   "id": "93a75f1a-654f-4903-ad59-c96107cea4a3",
   "metadata": {},
   "source": [
    "### After swapping DAI for ETH"
   ]
  },
  {
   "cell_type": "code",
   "execution_count": 9,
   "id": "fe88de7c-8496-4f30-96a5-6b2a3b59a4c3",
   "metadata": {},
   "outputs": [
    {
     "data": {
      "text/plain": [
       "4472.13595499958"
      ]
     },
     "execution_count": 9,
     "metadata": {},
     "output_type": "execute_result"
    }
   ],
   "source": [
    "total1_asset = qty1_eth * eth1 + qty1_dai * dai1\n",
    "total1_asset"
   ]
  },
  {
   "cell_type": "markdown",
   "id": "59f207fa-d127-482e-a50e-4c122f8ca388",
   "metadata": {},
   "source": [
    "### When hold the assets"
   ]
  },
  {
   "cell_type": "code",
   "execution_count": 10,
   "id": "343568d2-4249-48bc-a7f6-9c48e90cf029",
   "metadata": {},
   "outputs": [
    {
     "data": {
      "text/plain": [
       "6000"
      ]
     },
     "execution_count": 10,
     "metadata": {},
     "output_type": "execute_result"
    }
   ],
   "source": [
    "total_asset_hold = eth1 * qty0_eth + dai1 * qty0_dai\n",
    "total_asset_hold"
   ]
  },
  {
   "cell_type": "markdown",
   "id": "8cca995b-82ea-47c9-acbe-87025cee3c26",
   "metadata": {},
   "source": [
    "### Impermanent Loss Because of AMM"
   ]
  },
  {
   "cell_type": "code",
   "execution_count": 11,
   "id": "7bad56fa-3aea-4d9a-ac29-b028812cb4a6",
   "metadata": {},
   "outputs": [
    {
     "data": {
      "text/plain": [
       "(1527.8640450004204, 0.2546440075000701)"
      ]
     },
     "execution_count": 11,
     "metadata": {},
     "output_type": "execute_result"
    }
   ],
   "source": [
    "impermanent_loss = total_asset_hold - total1_asset\n",
    "impermanent_loss, impermanent_loss / total_asset_hold"
   ]
  },
  {
   "cell_type": "code",
   "execution_count": 12,
   "id": "3d817ffa-6b66-4cfc-b10b-85d9fe303c38",
   "metadata": {},
   "outputs": [],
   "source": [
    "### Impermanent Loss from ETH Price Changes"
   ]
  },
  {
   "cell_type": "code",
   "execution_count": 13,
   "id": "85a5ed79-84cd-4618-9982-e582663ef67a",
   "metadata": {},
   "outputs": [],
   "source": [
    "token0_prices = np.arange(1, 1001)"
   ]
  },
  {
   "cell_type": "code",
   "execution_count": 14,
   "id": "c390ff6e-9641-4b2c-a983-33ec8dfcbbc8",
   "metadata": {},
   "outputs": [],
   "source": [
    "# Token1 = stablecoin\n",
    "def amm_loss(price0_token0, qty0_token0, k, price1_token0):\n",
    "    qty0_token1 = k / qty0_token0\n",
    "    qty1_token1 = np.sqrt(price1_token0 * k / 1)\n",
    "    qty_swap_from = qty1_token1 - qty0_token1\n",
    "    \n",
    "    qty1_token0 = k / qty1_token1\n",
    "    qty_swap_to = qty0_token0 - qty1_token0\n",
    "    \n",
    "    total_asset_amm = price1_token0 * qty1_token0 + 1 * qty1_token1\n",
    "    total_asset_holding = price1_token0 * qty0_token0 + 1 * qty0_token1\n",
    "    \n",
    "    loss = (total_asset_holding - total_asset_amm) / total_asset_holding\n",
    "    return loss\n",
    "    "
   ]
  },
  {
   "cell_type": "code",
   "execution_count": 15,
   "id": "07be1f75-d793-4207-9be2-65fa572b2018",
   "metadata": {},
   "outputs": [
    {
     "data": {
      "text/plain": [
       "5.71909584179366"
      ]
     },
     "execution_count": 15,
     "metadata": {},
     "output_type": "execute_result"
    }
   ],
   "source": [
    "amm_loss(100, 10, 10000, 50) * 100"
   ]
  },
  {
   "cell_type": "code",
   "execution_count": 16,
   "id": "97028b4d-3bb8-47ff-8b12-c74145b87a7b",
   "metadata": {},
   "outputs": [],
   "source": [
    "amm_loss_percentage = np.array([amm_loss(100, 10, 10000, i) for i in token0_prices]) * 100"
   ]
  },
  {
   "cell_type": "code",
   "execution_count": 24,
   "id": "03131c8c-6d7a-4942-b31b-5e3c2ea98a0e",
   "metadata": {},
   "outputs": [
    {
     "data": {
      "image/png": "[encoded data removed]",
      "text/plain": [
       "<Figure size 720x360 with 1 Axes>"
      ]
     },
     "metadata": {
      "needs_background": "light"
     },
     "output_type": "display_data"
    }
   ],
   "source": [
    "fig, ax = plt.subplots(figsize=(10, 5))\n",
    "plt.plot(token0_prices, amm_loss_percentage)\n",
    "ax.yaxis.set_major_formatter(mtick.PercentFormatter())\n",
    "plt.xlabel(\"Token 0 Prices\")\n",
    "plt.ylabel(\"Impermanent Loss\")\n",
    "plt.xticks(np.arange(0, 1001, step=100))\n",
    "\n",
    "plt.title(\"AMM Impermanent Loss Due to Token 0 Price Changes\")\n",
    "plt.show()"
   ]
  },
  {
   "cell_type": "code",
   "execution_count": null,
   "id": "d88eecbf-141a-4cbf-9572-45588444ce64",
   "metadata": {},
   "outputs": [],
   "source": []
  }
 ],
 "metadata": {
  "kernelspec": {
   "display_name": "Python 3",
   "language": "python",
   "name": "python3"
  },
  "language_info": {
   "codemirror_mode": {
    "name": "ipython",
    "version": 3
   },
   "file_extension": ".py",
   "mimetype": "text/x-python",
   "name": "python",
   "nbconvert_exporter": "python",
   "pygments_lexer": "ipython3",
   "version": "3.9.6"
  }
 },
 "nbformat": 4,
 "nbformat_minor": 5
}
